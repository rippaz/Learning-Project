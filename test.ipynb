{
 "cells": [
  {
   "cell_type": "markdown",
   "metadata": {
    "collapsed": true
   },
   "source": [
    "# Images\n",
    "\n",
    "- Recall An Image from the Web.\n",
    " - \n",
    "\"!\" Is for pulling images from a link on the internet.\n",
    " - Example: Pulling an Image from the web.\n",
    " \n",
    "![Test](http://www.rippaz.com/wp-content/uploads/2016/04/Logo1.png \"This is the Logo\")\n",
    "\n",
    "\n",
    "# Quotes\n",
    "To use Quotes we demonstrate it with \">\" A Larger Than Sign\n",
    "- Example:\n",
    "\n",
    "> Following The Totrial Of Roshan On Youtube\n",
    "\n",
    ">[Abdullah Al Rasheed](https://twitter.com/twistedhardware)\n",
    "\n",
    "\n",
    "# Drawing a Horizantal Line\n",
    "To Draw a Horizantal Line we use \"---\" Three Dashes\n",
    "\n",
    "- Example:\n",
    "\n",
    "--- ---\n",
    "\n",
    "# Creating Tables\n",
    "To creat tables the following format is used\n",
    "\n",
    "- The Demostration is the following:\n",
    " - Formating Raw: \"| ------------|:-------------:| -------:|\"\n",
    "- The use of colons: \n",
    " - If no colon used like \"| ------------|\" or If Colon Used On the Left side like \"| :------------| The alignment will be to the left.\n",
    "  - Centring Alignment would use Two colons like \"| :-------------:|\"\n",
    "  - Aligning Text to the right is domeonstrated like \"| -------:|\"\n",
    "\n",
    "| This        | is           | Testing  |\n",
    "| ------------|:-------------:| -------:|\n",
    "| Test 1      | hello         |  55     |\n",
    "| test 2      | testtest      |    33   |\n",
    "| test 3      | Why           |     23  |"
   ]
  },
  {
   "cell_type": "code",
   "execution_count": null,
   "metadata": {
    "collapsed": true
   },
   "outputs": [],
   "source": []
  },
  {
   "cell_type": "code",
   "execution_count": null,
   "metadata": {
    "collapsed": true
   },
   "outputs": [],
   "source": []
  }
 ],
 "metadata": {
  "kernelspec": {
   "display_name": "Python 3",
   "language": "python",
   "name": "python3"
  },
  "language_info": {
   "codemirror_mode": {
    "name": "ipython",
    "version": 3
   },
   "file_extension": ".py",
   "mimetype": "text/x-python",
   "name": "python",
   "nbconvert_exporter": "python",
   "pygments_lexer": "ipython3",
   "version": "3.5.1"
  }
 },
 "nbformat": 4,
 "nbformat_minor": 0
}
